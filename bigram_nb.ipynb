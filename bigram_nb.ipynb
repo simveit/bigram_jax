{
 "cells": [
  {
   "cell_type": "code",
   "execution_count": 33,
   "metadata": {},
   "outputs": [],
   "source": [
    "from typing import List, Tuple\n",
    "import random"
   ]
  },
  {
   "cell_type": "code",
   "execution_count": 27,
   "metadata": {},
   "outputs": [
    {
     "name": "stdout",
     "output_type": "stream",
     "text": [
      "number of examples in dataset: 32033\n",
      "max word length: 15\n",
      "min word length: 2\n",
      "unique characters in dataset: 27\n",
      "vocabulary:\n",
      "<eos> a b c d e f g h i j k l m n o p q r s t u v w x y z\n",
      "example for a word:\n",
      "emma\n"
     ]
    }
   ],
   "source": [
    "def load_data(path: str) -> Tuple[List[str], List[str]]:\n",
    "\n",
    "    with open(path, 'r') as f:\n",
    "        data = f.read()\n",
    "\n",
    "    words = data.splitlines()\n",
    "    words = [word.strip() for word in words] # Remove leading/trailing whitespace\n",
    "    words = [word for word in words if word] # Remove empty strings\n",
    "\n",
    "    vocab = sorted(list(set(''.join(words))))\n",
    "    vocab = ['<eos>'] + vocab\n",
    "    print(f\"number of examples in dataset: {len(words)}\")\n",
    "    print(f\"max word length: {max([len(word) for word in words])}\")\n",
    "    print(f\"min word length: {min([len(word) for word in words])}\")\n",
    "    print(f\"unique characters in dataset: {len(vocab)}\")\n",
    "    print(\"vocabulary:\")\n",
    "    print(' '.join(vocab))\n",
    "    print('example for a word:')\n",
    "    print(words[0])\n",
    "    return words, vocab\n",
    "\n",
    "words, vocab = load_data('names.txt')"
   ]
  },
  {
   "cell_type": "code",
   "execution_count": 30,
   "metadata": {},
   "outputs": [
    {
     "name": "stdout",
     "output_type": "stream",
     "text": [
      "word: emma\n",
      "encoded: [0, 5, 13, 13, 1, 0]\n",
      "decoded: <eos>emma<eos>\n",
      "\n",
      "word: olivia\n",
      "encoded: [0, 15, 12, 9, 22, 9, 1, 0]\n",
      "decoded: <eos>olivia<eos>\n",
      "\n",
      "word: ava\n",
      "encoded: [0, 1, 22, 1, 0]\n",
      "decoded: <eos>ava<eos>\n",
      "\n",
      "word: isabella\n",
      "encoded: [0, 9, 19, 1, 2, 5, 12, 12, 1, 0]\n",
      "decoded: <eos>isabella<eos>\n",
      "\n",
      "word: sophia\n",
      "encoded: [0, 19, 15, 16, 8, 9, 1, 0]\n",
      "decoded: <eos>sophia<eos>\n",
      "\n"
     ]
    }
   ],
   "source": [
    "def encode(word: str, vocab: List[str]) -> List[int]:\n",
    "    \"\"\"\n",
    "    Encode a word, add <eos> at the beginning and the end of the word.\n",
    "    \"\"\"\n",
    "    return [vocab.index('<eos>')] + [vocab.index(char) for char in word] + [vocab.index('<eos>')]\n",
    "\n",
    "def decode(indices: List[int], vocab: List[str]) -> str:\n",
    "    \"\"\"\n",
    "    Decode a list of indices to a word using the vocabulary.\n",
    "    \"\"\"\n",
    "    return ''.join([vocab[index] for index in indices])\n",
    "\n",
    "for i in range(5):\n",
    "    print(f\"word: {words[i]}\")\n",
    "    print(f\"encoded: {encode(words[i], vocab)}\")\n",
    "    print(f\"decoded: {decode(encode(words[i], vocab), vocab)}\")\n",
    "    print()"
   ]
  },
  {
   "cell_type": "code",
   "execution_count": 32,
   "metadata": {},
   "outputs": [
    {
     "name": "stdout",
     "output_type": "stream",
     "text": [
      "[0, 5, 13, 13, 1, 0]\n",
      "<eos>emma<eos>\n",
      "32033\n",
      "6\n"
     ]
    }
   ],
   "source": [
    "encoded_words = [encode(word, vocab) for word in words]\n",
    "print(encoded_words[0])\n",
    "print(decode(encoded_words[0], vocab))\n",
    "print(len(encoded_words))\n",
    "print(len(encoded_words[0]))"
   ]
  },
  {
   "cell_type": "code",
   "execution_count": null,
   "metadata": {},
   "outputs": [],
   "source": []
  }
 ],
 "metadata": {
  "kernelspec": {
   "display_name": ".venv",
   "language": "python",
   "name": "python3"
  },
  "language_info": {
   "codemirror_mode": {
    "name": "ipython",
    "version": 3
   },
   "file_extension": ".py",
   "mimetype": "text/x-python",
   "name": "python",
   "nbconvert_exporter": "python",
   "pygments_lexer": "ipython3",
   "version": "3.12.6"
  }
 },
 "nbformat": 4,
 "nbformat_minor": 2
}
